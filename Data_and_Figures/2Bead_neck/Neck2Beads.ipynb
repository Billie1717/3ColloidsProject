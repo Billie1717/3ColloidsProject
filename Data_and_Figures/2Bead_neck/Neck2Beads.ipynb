{
 "cells": [
  {
   "cell_type": "code",
   "execution_count": 1,
   "id": "bb8ae31f-e374-4206-87a8-8392fbbb7a3f",
   "metadata": {},
   "outputs": [],
   "source": [
    "%load_ext autoreload\n",
    "%autoreload 2\n",
    "\n",
    "import sys\n",
    "sys.path.append(\"..\")\n",
    "import pandas\n",
    "import numpy as np\n",
    "import matplotlib.pyplot as plt\n",
    "import os.path\n",
    "import numbers\n",
    "\n",
    "datadir = '/Users/billiemeadowcroft/Dropbox/PhDGithub/RemoteTether/Data_and_Figures/2Bead_neck/Data/'\n",
    "plotsdir = '/Users/billiemeadowcroft/Dropbox/PhDGithub/RemoteTether/Data_and_Figures/2Bead_neck/Plots/'"
   ]
  },
  {
   "cell_type": "code",
   "execution_count": null,
   "id": "d4a3d17b-4592-41d4-9ad1-64ddc05c353e",
   "metadata": {},
   "outputs": [],
   "source": [
    "clrs = ['#2A0944','#3FA796','#FEC260', '#A10035','pink','lightsalmon']\n",
    "fname = '2BeadInteractionData.txt'\n",
    "\n",
    "simulation = pandas.read_csv(datadir  + fname, sep=' ', header = 'infer')\n",
    "phi = simulation.phi\n",
    "En20 = simulation.En20\n",
    "En10 = simulation.En10\n"
   ]
  },
  {
   "cell_type": "code",
   "execution_count": null,
   "id": "4db3456b-5135-4654-b9d2-8c2424aa6a68",
   "metadata": {},
   "outputs": [],
   "source": [
    "fig,ax = plt.subplots()\n",
    "\n",
    "ax.plot(phi,En20)"
   ]
  }
 ],
 "metadata": {
  "kernelspec": {
   "display_name": "Python 3",
   "language": "python",
   "name": "python3"
  },
  "language_info": {
   "codemirror_mode": {
    "name": "ipython",
    "version": 3
   },
   "file_extension": ".py",
   "mimetype": "text/x-python",
   "name": "python",
   "nbconvert_exporter": "python",
   "pygments_lexer": "ipython3",
   "version": "3.8.5"
  }
 },
 "nbformat": 4,
 "nbformat_minor": 5
}
