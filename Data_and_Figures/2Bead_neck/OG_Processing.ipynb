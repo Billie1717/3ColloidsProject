{
 "cells": [
  {
   "cell_type": "code",
   "execution_count": 18,
   "metadata": {},
   "outputs": [
    {
     "name": "stdout",
     "output_type": "stream",
     "text": [
      "The autoreload extension is already loaded. To reload it, use:\n",
      "  %reload_ext autoreload\n"
     ]
    }
   ],
   "source": [
    "%load_ext autoreload\n",
    "%autoreload 2\n",
    "\n",
    "import sys\n",
    "sys.path.append(\"..\")\n",
    "import pandas\n",
    "import numpy as np\n",
    "import matplotlib.pyplot as plt\n",
    "import os.path\n",
    "import numbers\n",
    "datadir = '/Users/billiemeadowcroft/Dropbox/Tether/PlottingMembraneLine/Data2Beads/'\n",
    "plotsdir = '/Users/billiemeadowcroft/Dropbox/Tether/PlottingMembraneLine/Plots/'"
   ]
  },
  {
   "cell_type": "code",
   "execution_count": 19,
   "metadata": {},
   "outputs": [],
   "source": [
    "def dist3D(x1,y1,z1,x2,y2,z2):\n",
    "    dist = np.sqrt((x1-x2)*(x1-x2)+(y1-y2)*(y1-y2)+(z1-z2)*(z1-z2))\n",
    "    \n",
    "    return dist\n",
    "\n",
    "def angle(x1,y1,z1):\n",
    "    r = np.sqrt(x1*x1+y1*y1+z1*z1)\n",
    "    if x1==0:\n",
    "        theta  = np.pi/2\n",
    "    else:\n",
    "        theta= np.arctan(y1/x1)\n",
    "    phi =np.arccos(z1/r)\n",
    "    if x1 <0:\n",
    "        phi = -phi\n",
    "    return phi, theta,r"
   ]
  },
  {
   "cell_type": "code",
   "execution_count": 20,
   "metadata": {},
   "outputs": [],
   "source": [
    "tmax = 2000000 #1000000 works well \n",
    "AvNum = 1100\n",
    "tquib = 500*AvNum\n",
    "NumBins = 500"
   ]
  },
  {
   "cell_type": "code",
   "execution_count": null,
   "metadata": {},
   "outputs": [
    {
     "name": "stdout",
     "output_type": "stream",
     "text": [
      "\n",
      "yep\n",
      "0           0.15\n",
      "1           0.15\n",
      "2           0.15\n",
      "3           0.15\n",
      "4           0.16\n",
      "            ... \n",
      "11427776    0.16\n",
      "11427777    0.13\n",
      "11427778    0.16\n",
      "11427779    0.13\n",
      "11427780    0.14\n",
      "Name: bend, Length: 11427781, dtype: object\n",
      "7.58\n",
      "1717\n"
     ]
    }
   ],
   "source": [
    "clrs = ['#2A0944','#3FA796','#FEC260', '#A10035','pink','lightsalmon']\n",
    "\n",
    "arc1 = [10,28] #[10,11,12,18,28]\n",
    "seed_10 = [3,11,18] #[1,2,3,4,5,6,7,8,9,10,11,12,13,14,15,16,17,18,19,20]\n",
    "seed_28 = [1,2,3]\n",
    "seeds = [seed_10,seed_28]\n",
    "TEQIB=200\n",
    "phii = np.linspace(-np.pi,np.pi,NumBins)\n",
    "for a in range(len(arc1)):\n",
    "    \n",
    "    BinnedBen = np.zeros(NumBins)\n",
    "    BinnedBin = np.zeros(NumBins)\n",
    "    BinnedStren = np.zeros(NumBins)\n",
    "    Number = np.zeros(NumBins)\n",
    "    \n",
    "    for s in range(2): \n",
    "        seed = seeds[a]\n",
    "        fadd1 = \"/memline2beads_arc1_\"+str(arc1[a])+\"_sigma_5.0_D0_6_seed_\"+str(seed[s])+\".dat\"\n",
    "        timesteps = 1\n",
    "        phis =[]\n",
    "        ens = []\n",
    "        bens = []\n",
    "        strens = []\n",
    "        binds = []\n",
    "        rs = []\n",
    "        fname = \"\"\n",
    "        sum_bend = np.zeros(5000)\n",
    "        print(fname)     \n",
    "        if (os.path.exists(datadir  + fname+fadd1)):\n",
    "            print('yep')\n",
    "            data = pandas.read_csv(datadir  + fname+fadd1, sep=' ', header = 'infer')\n",
    "            #print(data.keys())\n",
    "\n",
    "            x1,y1,z1 = data.x,data.y,data.z\n",
    "            Bin,Ben,Str =  data.bind,data.bend,data.str\n",
    "            Ben_ = Ben.values\n",
    "            print(Ben)\n",
    "            #Ben__ = Ben_.reshape(-1,5883)\n",
    "            #Ben__=Ben_[1:,:].astype(float)\n",
    "            #print(Ben__) #.values.astype(float)\n",
    "            #Ben,Bin,Str = data.bend, data.bind,data.str\n",
    "            #print(len(Tot)/5882)\n",
    "            print(x1[1340])\n",
    "            flag = 0\n",
    "            #AvNum = 0\n",
    "            for ii in range(tmax):\n",
    "                i = ii +tquib\n",
    "                if (x1[i] == str('x')): \n",
    "                    if sum_bend[timesteps] >= 230 and flag == 0:\n",
    "                        TEQIB = timesteps\n",
    "                        flag = 1\n",
    "                    timesteps +=1\n",
    "                else:\n",
    "                    sum_bend[timesteps] += float(Ben_[i])\n",
    "                    phi1 = angle(float(x1[i]),float(y1[i]),float(z1[i]))[0]\n",
    "                    r1 = angle(float(x1[i]),float(y1[i]),float(z1[i]))[2]\n",
    "                    phis.append(phi1)\n",
    "                    rs.append(r1)\n",
    "                    bens.append(float(Ben[i]))\n",
    "                    strens.append(float(Str[i]))\n",
    "                    binds.append(float(Bin[i]))\n",
    "    \n",
    "        print(timesteps)\n",
    "    \n",
    "        for ii in range(len(phis)-TEQIB*AvNum):\n",
    "            i = ii+TEQIB*AvNum\n",
    "            #if sum_bend[timesteps]\n",
    "            for j in range(NumBins-1):\n",
    "                if phis[i] > phii[j] and phis[i] < phii[j+1]:\n",
    "                    BinnedBen[j] += bens[i]\n",
    "                    BinnedBin[j] += binds[i]\n",
    "                    BinnedStren[j] += strens[i]\n",
    "                    Number[j] +=1\n",
    "    if a==0:\n",
    "        BenAverage10 = np.divide(BinnedBen,Number)\n",
    "        BinAverage10 = np.divide(BinnedBin,Number)    \n",
    "        StrAverage10 = np.divide(BinnedStren,Number)  \n",
    "    elif a==1:\n",
    "        BenAverage28 = np.divide(BinnedBen,Number)\n",
    "        BinAverage28 = np.divide(BinnedBin,Number)    \n",
    "        StrAverage28 = np.divide(BinnedStren,Number)  "
   ]
  },
  {
   "cell_type": "code",
   "execution_count": 16,
   "metadata": {},
   "outputs": [
    {
     "data": {
      "text/plain": [
       "[<matplotlib.lines.Line2D at 0x7f81bfcad100>]"
      ]
     },
     "execution_count": 16,
     "metadata": {},
     "output_type": "execute_result"
    },
    {
     "data": {
      "image/png": "[encoded data removed]",
      "text/plain": [
       "<Figure size 432x288 with 1 Axes>"
      ]
     },
     "metadata": {
      "needs_background": "light"
     },
     "output_type": "display_data"
    }
   ],
   "source": [
    "writedir = '/Users/billiemeadowcroft/Dropbox/Tether/PlottingMembraneLine/'\n",
    "\n",
    "filename  = 'MembraneLine2BeadsArc10_v1.dat'\n",
    "f = open(writedir+filename,'w')\n",
    "for p in range(NumBins-1):\n",
    "    f.write(str(phii[p])+' '+str(BenAverage10[p]) +' '+str(BinAverage10[p]) +' '+str(StrAverage10[p]) +'\\n')\n",
    "f.close()\n",
    "\n",
    "fig,ax = plt.subplots()\n",
    "np.arange(1,timesteps,1)\n",
    "ax.plot(sum_bend)\n",
    "#ax.set_ylim([170,250])"
   ]
  },
  {
   "cell_type": "code",
   "execution_count": 9,
   "metadata": {},
   "outputs": [
    {
     "data": {
      "image/png": "[encoded data removed]",
      "text/plain": [
       "<Figure size 1512x288 with 4 Axes>"
      ]
     },
     "metadata": {
      "needs_background": "light"
     },
     "output_type": "display_data"
    },
    {
     "data": {
      "image/png": "[encoded data removed]",
      "text/plain": [
       "<Figure size 288x216 with 1 Axes>"
      ]
     },
     "metadata": {
      "needs_background": "light"
     },
     "output_type": "display_data"
    }
   ],
   "source": [
    "clrs = ['#2A0944','#A10035'] #,'tab:blue','#3FA796', 'lightsalmon','pink']\n",
    "clrs = ['#2c7fb8','#41b6c4','#7fcdbb'] #,'#3FA796','#FEC260', '#A10035','lightsalmon','pink']\n",
    "#clrs = ['#a6bddb','#1c9099']\n",
    "fig2,ax2 = plt.subplots(1,4, figsize = (21,4))\n",
    "\n",
    "ax2[0].plot(phii,BenAverage10,color = clrs[0], label = 's = 4.0')\n",
    "ax2[0].plot(phii,BenAverage28,color = clrs[1], label = 's = 1.5')\n",
    "ax2[0].set_xticks([-np.pi,-np.pi/4,0,np.pi/4,np.pi])\n",
    "ax2[0].set_xticklabels([r'$-\\pi$',r'$-\\pi/4$','0',r'$\\pi/4$',r'$\\pi$'])\n",
    "ax2[0].set_xlabel(r'$\\phi$',fontsize = 14)\n",
    "#ax2[1].set_ylabel(\"Energy proxy\")\n",
    "ax2[0].set_xlim([-np.pi/4,4*np.pi/8])\n",
    "ax2[0].set_title('Bending')\n",
    "ax2[0].legend(frameon=False)\n",
    "\n",
    "\n",
    "ax2[2].plot(phii,BinAverage10,color = clrs[0])\n",
    "ax2[2].plot(phii,BinAverage28,color = clrs[1])\n",
    "ax2[2].set_xticks([-np.pi,-np.pi/8,0,np.pi/8,np.pi])\n",
    "ax2[2].set_xticklabels([r'$-\\pi$',r'$-\\pi/4$','0',r'$\\pi/4$',r'$\\pi$'])\n",
    "ax2[2].set_xlabel(r'$\\phi$',fontsize = 14)\n",
    "#ax2[2].set_ylabel(\"Energy proxy\")\n",
    "ax2[2].set_xlim([-np.pi/4,4*np.pi/8])\n",
    "ax2[2].set_title('Binding')\n",
    "\n",
    "\n",
    "ax2[1].plot(phii,StrAverage10,color = clrs[0])\n",
    "ax2[1].plot(phii,StrAverage28,color = clrs[1])\n",
    "ax2[1].set_xticks([-np.pi,-np.pi/4,0,np.pi/4,np.pi])\n",
    "ax2[1].set_xticklabels([r'$-\\pi$',r'$-\\pi/4$','0',r'$\\pi/4$',r'$\\pi$'])\n",
    "ax2[1].set_xlabel(r'$\\phi$',fontsize = 14)\n",
    "#ax2[3].set_ylabel(\"Energy proxy\")\n",
    "ax2[1].set_xlim([-np.pi/4,4*np.pi/8])\n",
    "ax2[1].set_title('Stretching')\n",
    "#fname = \"Tau0_arc1_\"+str(arc1)+\"_arc2_\"+str(arc2)+\"_LineEnergy.pdf\"\n",
    "#fig2.savefig(plotsdir + fname)\n",
    "\n",
    "fig,ax = plt.subplots(1,figsize = (4,3))\n",
    "#s = \n",
    "#r = \n",
    "#0 = \n",
    "f = 4 #WHHHYY\n",
    "ax.text(-np.pi/8-0.18,0.15,'Neck 1', color = clrs[0], fontsize = 14, fontweight = 'bold')\n",
    "ax.text(0.55-0.18,0.15,'Neck 2', color = clrs[1], fontsize = 14, fontweight = 'bold')\n",
    "#ax.text(np.pi/8+0.82-0.15,-2,'Neck 3', color = clrs[5], fontsize = 14, fontweight = 'bold')\n",
    "ax.plot(phii[8:255],f*BenAverage28[0:247],color = clrs[0],linewidth = 3,linestyle = ':',label = 's = 4.0')\n",
    "ax.plot(phii[0:235],f*BenAverage10[17:252],color = clrs[0],linewidth = 3, label = 's = 1.5')\n",
    "ax.plot(phii[282:312],f*BenAverage10[252:282],color = clrs[1],linewidth = 3)\n",
    "ax.plot(phii[255:320],f*BenAverage28[248:313],color = clrs[1],linewidth = 3,linestyle = ':')\n",
    "#ax.set_xlabel(r'$\\phi$',fontsize = 14)\n",
    "ax.set_xticks([-np.pi,-np.pi/8+0.0,0.55,np.pi])\n",
    "ax.set_xticklabels([r'$-\\pi$',r'$- s/2$',r'$s/2$',r'$\\pi$'], fontsize = 14)\n",
    "ax.set_xlim([-np.pi/4,phii[320]])\n",
    "ax.set_ylim([0,4.5])\n",
    "ax.set_ylabel(r\"Bending energy$~/~$bead [$k_{\\mathrm{B}}T$]\", fontsize = 14)\n",
    "#ax.set_title(\"Membrane neck bead energy\", fontsize = 14)\n",
    "ax.legend(frameon=False, loc = [0.35,0.73])\n",
    "#fig.tight_layout()\n",
    "fig.subplots_adjust(top = 0.8)\n",
    "fig.subplots_adjust(bottom = 0.12)\n",
    "fig.subplots_adjust(left = 0.2)\n",
    "plotname = '2Bead_28_10_NeckEnergies_v2.pdf'\n",
    "#fig.savefig(plotsdir+plotname)\n",
    "#fig3,ax3 = plt.subplots()\n",
    "\n",
    "#ax3.plot(phii[150:230],-EnAverage20[150:230]+EnAverage10[162:242], label = 'Bud 1 difference')\n",
    "#ax3.plot(phii[150:230],-EnAverage20[150:230]+EnAverage10[162:242], label = 'Bud 2 difference')\n",
    "#ax3.legend(frameon=False)\n",
    "\n"
   ]
  },
  {
   "cell_type": "markdown",
   "metadata": {},
   "source": [
    "Some information about combining plots"
   ]
  },
  {
   "cell_type": "code",
   "execution_count": 13,
   "metadata": {},
   "outputs": [
    {
     "ename": "IndexError",
     "evalue": "list index out of range",
     "output_type": "error",
     "traceback": [
      "\u001b[0;31m---------------------------------------------------------------------------\u001b[0m",
      "\u001b[0;31mIndexError\u001b[0m                                Traceback (most recent call last)",
      "\u001b[0;32m/var/folders/6x/b94n61ls7qqg1v30g1dnmnrr0000gp/T/ipykernel_39734/1146006957.py\u001b[0m in \u001b[0;36m<module>\u001b[0;34m\u001b[0m\n\u001b[1;32m      4\u001b[0m \u001b[0;34m\u001b[0m\u001b[0m\n\u001b[1;32m      5\u001b[0m \u001b[0max\u001b[0m\u001b[0;34m.\u001b[0m\u001b[0mtext\u001b[0m\u001b[0;34m(\u001b[0m\u001b[0;34m-\u001b[0m\u001b[0mnp\u001b[0m\u001b[0;34m.\u001b[0m\u001b[0mpi\u001b[0m\u001b[0;34m/\u001b[0m\u001b[0;36m8\u001b[0m\u001b[0;34m+\u001b[0m\u001b[0;36m0.0\u001b[0m\u001b[0;34m-\u001b[0m\u001b[0;36m0.15\u001b[0m\u001b[0;34m,\u001b[0m\u001b[0;34m-\u001b[0m\u001b[0;36m2\u001b[0m\u001b[0;34m,\u001b[0m\u001b[0;34m'Neck 1'\u001b[0m\u001b[0;34m,\u001b[0m \u001b[0mcolor\u001b[0m \u001b[0;34m=\u001b[0m \u001b[0mclrs\u001b[0m\u001b[0;34m[\u001b[0m\u001b[0;36m0\u001b[0m\u001b[0;34m]\u001b[0m\u001b[0;34m,\u001b[0m \u001b[0mfontsize\u001b[0m \u001b[0;34m=\u001b[0m \u001b[0;36m14\u001b[0m\u001b[0;34m,\u001b[0m \u001b[0mfontweight\u001b[0m \u001b[0;34m=\u001b[0m \u001b[0;34m'bold'\u001b[0m\u001b[0;34m)\u001b[0m\u001b[0;34m\u001b[0m\u001b[0;34m\u001b[0m\u001b[0m\n\u001b[0;32m----> 6\u001b[0;31m \u001b[0max\u001b[0m\u001b[0;34m.\u001b[0m\u001b[0mtext\u001b[0m\u001b[0;34m(\u001b[0m\u001b[0;36m0.3\u001b[0m\u001b[0;34m-\u001b[0m\u001b[0;36m0.15\u001b[0m\u001b[0;34m,\u001b[0m\u001b[0;34m-\u001b[0m\u001b[0;36m2\u001b[0m\u001b[0;34m,\u001b[0m\u001b[0;34m'Neck 2'\u001b[0m\u001b[0;34m,\u001b[0m \u001b[0mcolor\u001b[0m \u001b[0;34m=\u001b[0m \u001b[0mclrs\u001b[0m\u001b[0;34m[\u001b[0m\u001b[0;36m4\u001b[0m\u001b[0;34m]\u001b[0m\u001b[0;34m,\u001b[0m \u001b[0mfontsize\u001b[0m \u001b[0;34m=\u001b[0m \u001b[0;36m14\u001b[0m\u001b[0;34m,\u001b[0m \u001b[0mfontweight\u001b[0m \u001b[0;34m=\u001b[0m \u001b[0;34m'bold'\u001b[0m\u001b[0;34m)\u001b[0m\u001b[0;34m\u001b[0m\u001b[0;34m\u001b[0m\u001b[0m\n\u001b[0m\u001b[1;32m      7\u001b[0m \u001b[0max\u001b[0m\u001b[0;34m.\u001b[0m\u001b[0mtext\u001b[0m\u001b[0;34m(\u001b[0m\u001b[0mnp\u001b[0m\u001b[0;34m.\u001b[0m\u001b[0mpi\u001b[0m\u001b[0;34m/\u001b[0m\u001b[0;36m8\u001b[0m\u001b[0;34m+\u001b[0m\u001b[0;36m0.49\u001b[0m\u001b[0;34m-\u001b[0m\u001b[0;36m0.15\u001b[0m\u001b[0;34m,\u001b[0m\u001b[0;34m-\u001b[0m\u001b[0;36m2\u001b[0m\u001b[0;34m,\u001b[0m\u001b[0;34m'Neck 3'\u001b[0m\u001b[0;34m,\u001b[0m \u001b[0mcolor\u001b[0m \u001b[0;34m=\u001b[0m \u001b[0mclrs\u001b[0m\u001b[0;34m[\u001b[0m\u001b[0;36m5\u001b[0m\u001b[0;34m]\u001b[0m\u001b[0;34m,\u001b[0m \u001b[0mfontsize\u001b[0m \u001b[0;34m=\u001b[0m \u001b[0;36m14\u001b[0m\u001b[0;34m,\u001b[0m \u001b[0mfontweight\u001b[0m \u001b[0;34m=\u001b[0m \u001b[0;34m'bold'\u001b[0m\u001b[0;34m)\u001b[0m\u001b[0;34m\u001b[0m\u001b[0;34m\u001b[0m\u001b[0m\n\u001b[1;32m      8\u001b[0m \u001b[0max\u001b[0m\u001b[0;34m.\u001b[0m\u001b[0mplot\u001b[0m\u001b[0;34m(\u001b[0m\u001b[0mphii\u001b[0m\u001b[0;34m[\u001b[0m\u001b[0;36m150\u001b[0m\u001b[0;34m:\u001b[0m\u001b[0;36m230\u001b[0m\u001b[0;34m]\u001b[0m\u001b[0;34m,\u001b[0m\u001b[0;34m-\u001b[0m\u001b[0mEnAverage10\u001b[0m\u001b[0;34m[\u001b[0m\u001b[0;36m162\u001b[0m\u001b[0;34m:\u001b[0m\u001b[0;36m242\u001b[0m\u001b[0;34m]\u001b[0m\u001b[0;34m-\u001b[0m\u001b[0;36m7.5\u001b[0m\u001b[0;34m,\u001b[0m\u001b[0mcolor\u001b[0m \u001b[0;34m=\u001b[0m \u001b[0mclrs\u001b[0m\u001b[0;34m[\u001b[0m\u001b[0;36m0\u001b[0m\u001b[0;34m]\u001b[0m\u001b[0;34m,\u001b[0m\u001b[0mlinewidth\u001b[0m \u001b[0;34m=\u001b[0m \u001b[0;36m3\u001b[0m\u001b[0;34m,\u001b[0m \u001b[0malpha\u001b[0m \u001b[0;34m=\u001b[0m \u001b[0;36m0.7\u001b[0m\u001b[0;34m,\u001b[0m\u001b[0mlabel\u001b[0m \u001b[0;34m=\u001b[0m \u001b[0;34m'r = 1.6, s = 3.0'\u001b[0m\u001b[0;34m)\u001b[0m\u001b[0;34m\u001b[0m\u001b[0;34m\u001b[0m\u001b[0m\n",
      "\u001b[0;31mIndexError\u001b[0m: list index out of range"
     ]
    }
   ],
   "source": [
    "arc1s = [10,20]\n",
    "arc2s = [22,25]\n",
    "\n",
    "\n",
    "ax.text(-np.pi/8+0.0-0.15,-2,'Neck 1', color = clrs[0], fontsize = 14, fontweight = 'bold')\n",
    "ax.text(0.3-0.15,-2,'Neck 2', color = clrs[4], fontsize = 14, fontweight = 'bold')\n",
    "ax.text(np.pi/8+0.49-0.15,-2,'Neck 3', color = clrs[5], fontsize = 14, fontweight = 'bold')\n",
    "ax.plot(phii[150:230],-EnAverage10[162:242]-7.5,color = clrs[0],linewidth = 3, alpha = 0.7,label = 'r = 1.6, s = 3.0')\n",
    "ax.plot(phii[150:230],-EnAverage20[150:230]-7.5,color = clrs[0],linewidth = 3,linestyle = ':',label = 'r = 3.2, s = 3.2')\n",
    "ax.plot(phii[252:292],-EnAverage10[242:282]-7.5,color = clrs[4],linewidth = 3, alpha = 0.7)\n",
    "ax.plot(phii[230:300],-EnAverage20[230:300]-7.5,color = clrs[4],linewidth = 3,linestyle = ':')\n",
    "#ax.set_xlabel(r'$\\phi$',fontsize = 14)\n",
    "ax.plot(phii[293:343],-EnAverage10[282:332]-7.5,color = clrs[5], linewidth = 3, alpha = 0.7)\n",
    "ax.plot(phii[300:370],-EnAverage20[300:370]-7.5,color = clrs[5],linewidth = 3,linestyle = ':')\n",
    "ax.set_xticks([-np.pi,-np.pi/8+0.0,0.3,np.pi/8+0.49,np.pi])\n",
    "ax.set_xticklabels([r'$-\\pi$',r'- r','0',r's',r'$\\pi$'], fontsize = 14)\n",
    "ax.set_xlim([-np.pi/4,4*np.pi/8])\n",
    "ax.set_ylim([-3,18])\n",
    "ax.set_ylabel(\"Energy [$k_{\\mathrm{B}}T$]\", fontsize = 14)\n",
    "ax.legend(frameon=False, loc = [0.05,0.83])\n",
    "plotname = 'BuddEnergyDifferences_22_25_alltime.pdf'\n",
    "fig.savefig(plotsdir+plotname)\n",
    "\n",
    "arc1s = [10,20]\n",
    "arc2s = [22,35]\n",
    "\n",
    "ax.text(-np.pi/8+0.0-0.15,-2,'Neck 1', color = clrs[0], fontsize = 14, fontweight = 'bold')\n",
    "ax.text(0.35-0.15,-2,'Neck 2', color = clrs[4], fontsize = 14, fontweight = 'bold')\n",
    "ax.text(np.pi/8+0.82-0.15,-2,'Neck 3', color = clrs[5], fontsize = 14, fontweight = 'bold')\n",
    "ax.plot(phii[150:230],-EnAverage10[162:242]-7.5,color = clrs[0],linewidth = 3, alpha = 0.7,label = 'r = 1.6, s = 3.0')\n",
    "ax.plot(phii[150:230],-EnAverage20[150:230]-7.5,color = clrs[0],linewidth = 3,linestyle = ':',label = 'r = 3.2, s = 3.2')\n",
    "ax.plot(phii[257:297],-EnAverage10[242:282]-7.5,color = clrs[4],linewidth = 3, alpha = 0.7)\n",
    "ax.plot(phii[230:300],-EnAverage20[230:300]-7.5,color = clrs[4],linewidth = 3,linestyle = ':')\n",
    "#ax.set_xlabel(r'$\\phi$',fontsize = 14)\n",
    "ax.plot(phii[320:370],-EnAverage10[282:332]-7.5,color = clrs[5], linewidth = 3, alpha = 0.7)\n",
    "ax.plot(phii[300:370],-EnAverage20[300:370]-7.5,color = clrs[5],linewidth = 3,linestyle = ':')\n",
    "ax.set_xticks([-np.pi,-np.pi/8+0.0,0.35,np.pi/8+0.82,np.pi])\n",
    "ax.set_xticklabels([r'$-\\pi$',r'- r','0',r's',r'$\\pi$'], fontsize = 14)\n",
    "ax.set_xlim([-np.pi/4,4*np.pi/8])\n",
    "ax.set_ylim([-3,18])\n",
    "ax.set_ylabel(\"Energy [$k_{\\mathrm{B}}T$]\", fontsize = 14)\n",
    "ax.legend(frameon=False, loc = [0.05,0.83])\n",
    "#plotname = 'BuddEnergyDifferences_22_35_alltime.pdf'\n",
    "#fig.savefig(plotsdir+plotname)"
   ]
  },
  {
   "cell_type": "code",
   "execution_count": null,
   "metadata": {},
   "outputs": [],
   "source": [
    "f = open(plotsdir+fname,'w')\n",
    "f.write('phi En20 En10\\n')\n",
    "for i in range(len(phii)):\n",
    "    f.write(str(phii[i])+' '+str(EnAverage10[i])+' '+str(EnAverage20[i])+'\\n')\n",
    "f.close()\n"
   ]
  },
  {
   "cell_type": "code",
   "execution_count": null,
   "metadata": {},
   "outputs": [],
   "source": [
    "fadd1 = \"/memline2beads_arc1_10_sigma_5.0_D0_6_seed_1Bud.dat\"\n",
    "\n",
    "\n",
    "for a in range(1): \n",
    "    #r = []\n",
    "    timesteps = 1\n",
    "    phis10 =[]\n",
    "    phis20 =[]\n",
    "    ens = []\n",
    "    bens = []\n",
    "    strens = []\n",
    "    binds = []\n",
    "    rs = []\n",
    "\n",
    "\n",
    "    if (os.path.exists(datadir  + fname+fadd1)):\n",
    "        print('yep')\n",
    "        data = pandas.read_csv(datadir  + fname+fadd1, sep=' ', header = 'infer')\n",
    "        print(data.keys())\n",
    "\n",
    "        x1,y1,z1 = data.x,data.y,data.z\n",
    "        Ben,Bin,Str = data.bend, data.bind,data.str\n",
    "        print(x1[1340])\n",
    "        for ii in range(tmax):\n",
    "            i = ii #+5882*tquib\n",
    "            if (x1[i] == str('x')): #need to index 2 less than the first 'timestep' line in data here\n",
    "                timesteps +=1\n",
    "            else:\n",
    "                phi1 = angle(float(x1[i]),float(y1[i]),float(z1[i]))[0]\n",
    "                r1 = angle(float(x1[i]),float(y1[i]),float(z1[i]))[2]\n",
    "                if s==0:\n",
    "                    phis10.append(phi1)\n",
    "                elif s== 1:\n",
    "                    phis20.append(phi1)\n",
    "                rs.append(r1)\n",
    "                bens.append(float(Ben[i]))\n",
    "                strens.append(float(Str[i]))\n",
    "                binds.append(float(Bin[i]))\n",
    "#---------Binning------------#\n",
    "\n",
    "NumBins = 500\n",
    "BinnedEn = np.zeros(NumBins)\n",
    "BinnedBen = np.zeros(NumBins)\n",
    "BinnedBin = np.zeros(NumBins)\n",
    "BinnedStren = np.zeros(NumBins)\n",
    "Number = np.zeros(NumBins)\n",
    "phii = np.linspace(-np.pi,np.pi,NumBins)\n",
    "#print(NumBins)\n",
    "for i in range(len(phis10)):\n",
    "    for j in range(NumBins-1):\n",
    "        if phis[i] > phii[j] and phis[i] < phii[j+1]:\n",
    "            BinnedBen[j] += bens[i]\n",
    "            BinnedBin[j] += binds[i]\n",
    "            BinnedStren[j] += strens[i]\n",
    "            Number[j] +=1\n",
    "            \n",
    "BenAverageB = np.divide(BinnedBen,Number)\n",
    "BinAverageB = np.divide(BinnedBin,Number)    \n",
    "StrAverageB = np.divide(BinnedStren,Number) \n",
    "                \n",
    "print(timesteps)"
   ]
  }
 ],
 "metadata": {
  "kernelspec": {
   "display_name": "Python 3",
   "language": "python",
   "name": "python3"
  },
  "language_info": {
   "codemirror_mode": {
    "name": "ipython",
    "version": 3
   },
   "file_extension": ".py",
   "mimetype": "text/x-python",
   "name": "python",
   "nbconvert_exporter": "python",
   "pygments_lexer": "ipython3",
   "version": "3.8.5"
  }
 },
 "nbformat": 4,
 "nbformat_minor": 4
}
